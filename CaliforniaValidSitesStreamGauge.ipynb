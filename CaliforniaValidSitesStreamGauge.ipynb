{
 "cells": [
  {
   "cell_type": "code",
   "execution_count": 1,
   "metadata": {
    "colab": {
     "base_uri": "https://localhost:8080/",
     "height": 554
    },
    "id": "CHMXsyaC-7L6",
    "outputId": "bbd6ca6b-1506-44b5-bfe5-f8e6140a5f66"
   },
   "outputs": [
    {
     "ename": "ModuleNotFoundError",
     "evalue": "No module named 'pandas'",
     "output_type": "error",
     "traceback": [
      "\u001b[1;31m---------------------------------------------------------------------------\u001b[0m",
      "\u001b[1;31mModuleNotFoundError\u001b[0m                       Traceback (most recent call last)",
      "Cell \u001b[1;32mIn [1], line 1\u001b[0m\n\u001b[1;32m----> 1\u001b[0m \u001b[39mimport\u001b[39;00m \u001b[39mpandas\u001b[39;00m \u001b[39mas\u001b[39;00m \u001b[39mpd\u001b[39;00m\n\u001b[0;32m      2\u001b[0m \u001b[39mimport\u001b[39;00m \u001b[39mrequests\u001b[39;00m\n\u001b[0;32m      3\u001b[0m \u001b[39mfrom\u001b[39;00m \u001b[39mbs4\u001b[39;00m \u001b[39mimport\u001b[39;00m BeautifulSoup\n",
      "\u001b[1;31mModuleNotFoundError\u001b[0m: No module named 'pandas'"
     ]
    }
   ],
   "source": [
    "import pandas as pd\n",
    "import requests\n",
    "from bs4 import BeautifulSoup\n",
    "import time\n",
    "\n",
    "file = '500PtSitesCAGauges.txt'\n",
    "df = pd.read_csv(file, delimiter = \"/\")\n",
    "df.to_csv(\"california gages.csv\", index=False)"
   ]
  },
  {
   "cell_type": "markdown",
   "metadata": {},
   "source": [
    "Test markdown meow"
   ]
  },
  {
   "cell_type": "code",
   "execution_count": 8,
   "metadata": {
    "colab": {
     "base_uri": "https://localhost:8080/"
    },
    "id": "EvtsTN7xAx6l",
    "outputId": "667dd545-ea32-4819-9c0d-f2838fa8d5da"
   },
   "outputs": [
    {
     "name": "stdout",
     "output_type": "stream",
     "text": [
      "Web site exists\n",
      "Web site exists\n",
      "Web site exists\n",
      "Web site exists\n",
      "Web site exists\n",
      "Web site exists\n",
      "Web site exists\n",
      "Web site exists\n",
      "Web site exists\n",
      "Web site exists\n",
      "Web site exists\n",
      "Web site exists\n",
      "Web site exists\n",
      "Web site exists\n",
      "Web site exists\n",
      "Web site exists\n",
      "Web site exists\n",
      "Web site exists\n",
      "Web site exists\n",
      "Web site exists\n",
      "Web site exists\n",
      "Web site exists\n",
      "Web site exists\n",
      "Web site exists\n",
      "Web site exists\n",
      "Web site exists\n",
      "Web site exists\n",
      "Web site exists\n",
      "Web site exists\n",
      "Web site exists\n",
      "Web site exists\n",
      "Web site exists\n",
      "Web site exists\n",
      "Web site exists\n",
      "Web site exists\n",
      "Web site exists\n",
      "Web site exists\n",
      "Web site exists\n",
      "Web site exists\n",
      "Web site exists\n",
      "Web site exists\n",
      "Web site exists\n",
      "Web site exists\n",
      "Web site exists\n",
      "Web site exists\n",
      "Web site exists\n",
      "Web site exists\n",
      "Web site exists\n",
      "Web site exists\n",
      "Web site exists\n",
      "Web site exists\n",
      "Web site exists\n",
      "Web site exists\n",
      "Web site exists\n",
      "Web site exists\n",
      "Web site exists\n",
      "Web site exists\n",
      "Web site exists\n",
      "Web site exists\n",
      "Web site exists\n",
      "Web site exists\n",
      "Web site exists\n",
      "Web site exists\n",
      "Web site exists\n",
      "Web site exists\n",
      "Web site exists\n",
      "Web site exists\n",
      "Web site exists\n",
      "Web site exists\n",
      "Web site exists\n",
      "Web site exists\n",
      "Web site exists\n",
      "Web site exists\n",
      "Web site exists\n",
      "Web site exists\n",
      "Web site exists\n",
      "Web site exists\n",
      "Web site exists\n",
      "Web site exists\n",
      "Web site exists\n",
      "Web site exists\n",
      "Web site exists\n",
      "Web site exists\n",
      "Web site exists\n",
      "Web site exists\n",
      "Web site exists\n",
      "Web site exists\n",
      "Web site exists\n",
      "Web site exists\n",
      "Web site exists\n",
      "Web site exists\n",
      "Web site exists\n",
      "Web site exists\n",
      "Web site exists\n",
      "Web site exists\n",
      "Web site exists\n",
      "Web site exists\n",
      "Web site exists\n",
      "Web site exists\n",
      "Web site exists\n",
      "Web site exists\n",
      "Web site exists\n",
      "Web site exists\n",
      "Web site exists\n",
      "Web site exists\n",
      "Web site exists\n",
      "Web site exists\n",
      "Web site exists\n",
      "Web site exists\n",
      "Web site exists\n",
      "Web site exists\n",
      "Web site exists\n",
      "Web site exists\n",
      "Web site exists\n",
      "Web site exists\n",
      "Web site exists\n",
      "Web site exists\n",
      "Web site exists\n",
      "Web site exists\n",
      "Web site exists\n",
      "Web site exists\n",
      "Web site exists\n",
      "Web site exists\n",
      "Web site exists\n",
      "Web site exists\n",
      "Web site exists\n",
      "Web site exists\n",
      "Web site exists\n",
      "Web site exists\n",
      "Web site exists\n",
      "Web site exists\n",
      "Web site exists\n",
      "Web site exists\n",
      "Web site exists\n",
      "Web site exists\n",
      "Web site exists\n",
      "Web site exists\n",
      "Web site exists\n",
      "Web site exists\n",
      "Web site exists\n",
      "Web site exists\n",
      "Web site exists\n",
      "Web site exists\n",
      "Web site exists\n",
      "Web site exists\n",
      "Web site exists\n",
      "Web site exists\n",
      "Web site exists\n",
      "Web site exists\n",
      "Web site exists\n",
      "Web site exists\n",
      "Web site exists\n",
      "Web site exists\n",
      "Web site exists\n",
      "Web site exists\n",
      "Web site exists\n",
      "Web site exists\n",
      "Web site exists\n",
      "Web site exists\n"
     ]
    }
   ],
   "source": [
    "url = \"https://waterdata.usgs.gov/nwis/inventory?agency_code=USGS&site_no=\"\n",
    "pot = []\n",
    "i = 0\n",
    "for site in df[\"site_no\"]:\n",
    "  url = url + str(site)\n",
    "  req = requests.get(url)\n",
    "  url = url[:-len(str(site))]\n",
    "  soup = BeautifulSoup(req.content, 'html.parser')\n",
    "  pot.insert(i,soup)\n",
    "  i = i+1\n",
    "  time.sleep(0.2)\n",
    "  if req.status_code == 200:\n",
    "    print('Web site exists')\n",
    "  else:\n",
    "    print('Web site does not exist') "
   ]
  },
  {
   "cell_type": "code",
   "execution_count": 9,
   "metadata": {
    "id": "HjnGEw2HCumY"
   },
   "outputs": [],
   "source": [
    "for soups in pot:\n",
    "  if soup.find == None:\n",
    "    print(1)\n"
   ]
  }
 ],
 "metadata": {
  "colab": {
   "provenance": []
  },
  "kernelspec": {
   "display_name": "Python 3.9.13 64-bit (microsoft store)",
   "language": "python",
   "name": "python3"
  },
  "language_info": {
   "codemirror_mode": {
    "name": "ipython",
    "version": 3
   },
   "file_extension": ".py",
   "mimetype": "text/x-python",
   "name": "python",
   "nbconvert_exporter": "python",
   "pygments_lexer": "ipython3",
   "version": "3.9.13"
  },
  "vscode": {
   "interpreter": {
    "hash": "a6dcbcbc20552ad285a7b4fc1f56fdfdc6bf26f2fdf78b6a0c86144d8cb1d463"
   }
  }
 },
 "nbformat": 4,
 "nbformat_minor": 1
}
